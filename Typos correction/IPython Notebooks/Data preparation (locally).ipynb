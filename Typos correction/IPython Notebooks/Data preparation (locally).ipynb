{
 "cells": [
  {
   "cell_type": "code",
   "execution_count": null,
   "metadata": {},
   "outputs": [],
   "source": [
    "import pandas\n",
    "import numpy\n",
    "import itertools\n",
    "\n",
    "path_to_sourced = '/Users/irina/Documents/GitHub/ml'\n",
    "import sys\n",
    "import modelforge\n",
    "sys.path.append(path_to_sourced)\n",
    "import sourced\n",
    "from sourced.ml.models import id2vec"
   ]
  },
  {
   "cell_type": "code",
   "execution_count": 2,
   "metadata": {},
   "outputs": [
    {
     "data": {
      "text/html": [
       "<div>\n",
       "<style scoped>\n",
       "    .dataframe tbody tr th:only-of-type {\n",
       "        vertical-align: middle;\n",
       "    }\n",
       "\n",
       "    .dataframe tbody tr th {\n",
       "        vertical-align: top;\n",
       "    }\n",
       "\n",
       "    .dataframe thead th {\n",
       "        text-align: right;\n",
       "    }\n",
       "</style>\n",
       "<table border=\"1\" class=\"dataframe\">\n",
       "  <thead>\n",
       "    <tr style=\"text-align: right;\">\n",
       "      <th></th>\n",
       "      <th>num_files</th>\n",
       "      <th>num_occ</th>\n",
       "      <th>num_repos</th>\n",
       "      <th>token</th>\n",
       "      <th>token_split</th>\n",
       "    </tr>\n",
       "  </thead>\n",
       "  <tbody>\n",
       "    <tr>\n",
       "      <th>0</th>\n",
       "      <td>1</td>\n",
       "      <td>3</td>\n",
       "      <td>1</td>\n",
       "      <td>set_num_tile</td>\n",
       "      <td>set num tile</td>\n",
       "    </tr>\n",
       "    <tr>\n",
       "      <th>1</th>\n",
       "      <td>1</td>\n",
       "      <td>1</td>\n",
       "      <td>1</td>\n",
       "      <td>MC_FOM_NONE</td>\n",
       "      <td>mc fom none</td>\n",
       "    </tr>\n",
       "    <tr>\n",
       "      <th>2</th>\n",
       "      <td>1</td>\n",
       "      <td>3</td>\n",
       "      <td>1</td>\n",
       "      <td>from_zval_write_sin6_addr</td>\n",
       "      <td>from zval write sin addr</td>\n",
       "    </tr>\n",
       "    <tr>\n",
       "      <th>3</th>\n",
       "      <td>1</td>\n",
       "      <td>5</td>\n",
       "      <td>1</td>\n",
       "      <td>DHESuite</td>\n",
       "      <td>dhe suite</td>\n",
       "    </tr>\n",
       "    <tr>\n",
       "      <th>4</th>\n",
       "      <td>2</td>\n",
       "      <td>2</td>\n",
       "      <td>1</td>\n",
       "      <td>stdinFirstBytes:</td>\n",
       "      <td>stdin first bytes</td>\n",
       "    </tr>\n",
       "  </tbody>\n",
       "</table>\n",
       "</div>"
      ],
      "text/plain": [
       "   num_files  num_occ  num_repos                      token  \\\n",
       "0          1        3          1               set_num_tile   \n",
       "1          1        1          1                MC_FOM_NONE   \n",
       "2          1        3          1  from_zval_write_sin6_addr   \n",
       "3          1        5          1                   DHESuite   \n",
       "4          2        2          1           stdinFirstBytes:   \n",
       "\n",
       "                token_split  \n",
       "0              set num tile  \n",
       "1               mc fom none  \n",
       "2  from zval write sin addr  \n",
       "3                 dhe suite  \n",
       "4         stdin first bytes  "
      ]
     },
     "execution_count": 2,
     "metadata": {},
     "output_type": "execute_result"
    }
   ],
   "source": [
    "data = pandas.read_csv('repos2ids_v3.4_stats.csv')\n",
    "data.head()"
   ]
  },
  {
   "cell_type": "code",
   "execution_count": 4,
   "metadata": {},
   "outputs": [],
   "source": [
    "def flattify(dataframe, column, new_column, apply_function = lambda x:x):\n",
    "    \"\"\"\n",
    "    Flattify dataframe on 'column' with extracted elemenents put to 'new_column'\n",
    "    \"\"\"\n",
    "    other_columns = list(dataframe.columns)\n",
    "    flat_other = numpy.repeat(dataframe.loc[:, other_columns].values, repeats = numpy.array(dataframe[column].apply(lambda x:len(apply_function(x))).tolist()), axis=0)\n",
    "    flat_column = list(itertools.chain.from_iterable(dataframe[column].apply(apply_function).tolist()))\n",
    "    result = pandas.DataFrame(flat_other, columns = other_columns)\n",
    "    result[new_column] = flat_column\n",
    "    return result\n",
    "\n",
    "def split_function(string):\n",
    "    try:\n",
    "        return string.split()\n",
    "    except AttributeError:\n",
    "        print(string)\n",
    "\n",
    "\n",
    "def get_info(data, info_file):\n",
    "    \"\"\"\n",
    "    Extract tokens from 'token_split' column and put them to 'identifier' column, dump result\n",
    "    \"\"\"\n",
    "    id_info = flattify(data, 'token_split', 'identifier', apply_function = split_function)\n",
    "    columns = list(id_info.columns)\n",
    "    columns.remove('token')\n",
    "    \n",
    "    id_info = id_info.loc[:, columns]\n",
    "    id_info.to_csv(info_file)\n",
    "    return id_info\n",
    "\n",
    "id_info = get_info('id_info.csv')"
   ]
  },
  {
   "cell_type": "code",
   "execution_count": 6,
   "metadata": {},
   "outputs": [],
   "source": [
    "def get_stats(id_info, stats_file):\n",
    "    \"\"\"\n",
    "    Leave only stats for identifiers, dump result\n",
    "    \"\"\"\n",
    "    id_stats = id_info.loc[:, ['num_files', 'num_occ', 'num_repos', 'identifier']]\n",
    "    id_stats = id_stats.groupby(['identifier']).sum()\n",
    "    id_stats.to_csv(stats_file)\n",
    "    return id_stats\n",
    "    \n",
    "id_stats = get_stats(id_info, 'id_stats.csv')"
   ]
  },
  {
   "cell_type": "code",
   "execution_count": 8,
   "metadata": {},
   "outputs": [
    {
     "data": {
      "text/plain": [
       "sourced.ml.models.id2vec.Id2Vec().load(source=\"emb-18.asdf\")"
      ]
     },
     "execution_count": 8,
     "metadata": {},
     "output_type": "execute_result"
    }
   ],
   "source": [
    "model = id2vec.Id2Vec()\n",
    "model.load('emb-18.asdf')"
   ]
  },
  {
   "cell_type": "code",
   "execution_count": 102,
   "metadata": {},
   "outputs": [
    {
     "data": {
      "text/plain": [
       "(440793, 300)"
      ]
     },
     "execution_count": 102,
     "metadata": {},
     "output_type": "execute_result"
    }
   ],
   "source": [
    "def embedding(token):\n",
    "    return model.embeddings[model['i.' + token]]\n",
    "\n",
    "common_tokens = list(sorted(list(set(id_stats.index.tolist()).intersection(set([x[2:] for x in model.tokens])))))\n",
    "vector_matrix = numpy.array([embedding(token) for token in common_tokens])\n",
    "print(vector_matrix.shape)\n",
    "\n",
    "vector_matrix.dump('vector_matrix')\n",
    "common_tokens.dump('common_tokens')"
   ]
  }
 ],
 "metadata": {
  "kernelspec": {
   "display_name": "Python 3",
   "language": "python",
   "name": "python3"
  },
  "language_info": {
   "codemirror_mode": {
    "name": "ipython",
    "version": 3
   },
   "file_extension": ".py",
   "mimetype": "text/x-python",
   "name": "python",
   "nbconvert_exporter": "python",
   "pygments_lexer": "ipython3",
   "version": "3.5.2"
  }
 },
 "nbformat": 4,
 "nbformat_minor": 2
}
