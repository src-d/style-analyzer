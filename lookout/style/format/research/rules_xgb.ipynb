{
 "cells": [
  {
   "cell_type": "code",
   "execution_count": 1,
   "metadata": {},
   "outputs": [
    {
     "name": "stdout",
     "output_type": "stream",
     "text": [
      "Populating the interactive namespace from numpy and matplotlib\n",
      "Number of samples: 4177\n"
     ]
    },
    {
     "name": "stderr",
     "output_type": "stream",
     "text": [
      "/usr/local/lib/python3.7/dist-packages/sklearn/model_selection/_search.py:16: DeprecationWarning: Using or importing the ABCs from 'collections' instead of from 'collections.abc' is deprecated, and in 3.8 it will stop working\n",
      "  from collections import Mapping, namedtuple, defaultdict, Sequence\n"
     ]
    }
   ],
   "source": [
    "%pylab inline\n",
    "import pandas\n",
    "column_names = [\"sex\", \"length\", \"diameter\", \"height\", \"whole weight\", \n",
    "                \"shucked weight\", \"viscera weight\", \"shell weight\", \"rings\"]\n",
    "data = pandas.read_csv(\"abalone.data\", names=column_names)\n",
    "print(\"Number of samples: %d\" % len(data))\n",
    "for label in \"MFI\":\n",
    "    data[label] = data[\"sex\"] == label\n",
    "del data[\"sex\"]\n",
    "import numpy as np\n",
    "from sklearn import model_selection, tree\n",
    "\n",
    "Y = data.rings.values\n",
    "del data[\"rings\"] # remove rings from data, so we can convert all the dataframe to a numpy 2D array.\n",
    "X = data.values.astype(np.float)\n",
    "\n",
    "interval = len(Y) / 2\n",
    "ymap = {}\n",
    "accum = 0\n",
    "i = 0\n",
    "for val in range(Y.min(), Y.max() + 1):\n",
    "    delta = (Y == val).sum()\n",
    "    accum += delta\n",
    "    if accum > interval:\n",
    "        accum = delta\n",
    "        i += 1\n",
    "    ymap[val] = i\n",
    "mapped_y = zeros(len(Y), dtype=int)\n",
    "for i, v in enumerate(Y):\n",
    "    mapped_y[i] = ymap[v]\n",
    "Y = mapped_y\n",
    "train_x, test_x, train_y, test_y = model_selection.train_test_split(X, Y) # splits 75%/25% by default"
   ]
  },
  {
   "cell_type": "code",
   "execution_count": 14,
   "metadata": {},
   "outputs": [
    {
     "data": {
      "text/plain": [
       "0.7138755980861244"
      ]
     },
     "execution_count": 14,
     "metadata": {},
     "output_type": "execute_result"
    }
   ],
   "source": [
    "from xgboost import XGBClassifier\n",
    "model = XGBClassifier(max_depth=4, n_estimators=30)\n",
    "model.fit(train_x, train_y)\n",
    "model.score(test_x, test_y)"
   ]
  },
  {
   "cell_type": "code",
   "execution_count": 17,
   "metadata": {},
   "outputs": [
    {
     "data": {
      "text/plain": [
       "480"
      ]
     },
     "execution_count": 17,
     "metadata": {},
     "output_type": "execute_result"
    }
   ],
   "source": [
    "16 * 30"
   ]
  },
  {
   "cell_type": "code",
   "execution_count": 37,
   "metadata": {},
   "outputs": [],
   "source": [
    "from io import StringIO\n",
    "import json\n",
    "\n",
    "def dump_xgb(model):\n",
    "    buffer = StringIO()\n",
    "    dump =model.get_booster().get_dump(dump_format=\"json\")\n",
    "    return [json.loads(d) for d in dump]"
   ]
  },
  {
   "cell_type": "code",
   "execution_count": 38,
   "metadata": {},
   "outputs": [],
   "source": [
    "trees = dump_xgb(model)"
   ]
  },
  {
   "cell_type": "code",
   "execution_count": 39,
   "metadata": {},
   "outputs": [
    {
     "data": {
      "text/plain": [
       "{'children': [{'children': [{'children': [{'children': [{'leaf': 0.128859058,\n",
       "         'nodeid': 15},\n",
       "        {'leaf': 0.0428571403, 'nodeid': 16}],\n",
       "       'depth': 3,\n",
       "       'missing': 15,\n",
       "       'no': 16,\n",
       "       'nodeid': 7,\n",
       "       'split': 'f6',\n",
       "       'split_condition': 0.0525000021,\n",
       "       'yes': 15},\n",
       "      {'children': [{'leaf': 0.0150579112, 'nodeid': 17},\n",
       "        {'leaf': 0.130769238, 'nodeid': 18}],\n",
       "       'depth': 3,\n",
       "       'missing': 17,\n",
       "       'no': 18,\n",
       "       'nodeid': 8,\n",
       "       'split': 'f4',\n",
       "       'split_condition': 0.232999995,\n",
       "       'yes': 17}],\n",
       "     'depth': 2,\n",
       "     'missing': 7,\n",
       "     'no': 8,\n",
       "     'nodeid': 3,\n",
       "     'split': 'f1',\n",
       "     'split_condition': 0.242500007,\n",
       "     'yes': 7},\n",
       "    {'children': [{'children': [{'leaf': 0.140477821, 'nodeid': 19},\n",
       "        {'leaf': -2.55448485e-09, 'nodeid': 20}],\n",
       "       'depth': 3,\n",
       "       'missing': 19,\n",
       "       'no': 20,\n",
       "       'nodeid': 9,\n",
       "       'split': 'f0',\n",
       "       'split_condition': 0.452499986,\n",
       "       'yes': 19},\n",
       "      {'children': [{'leaf': 0.107164793, 'nodeid': 21},\n",
       "        {'leaf': 0.0467889868, 'nodeid': 22}],\n",
       "       'depth': 3,\n",
       "       'missing': 21,\n",
       "       'no': 22,\n",
       "       'nodeid': 10,\n",
       "       'split': 'f2',\n",
       "       'split_condition': 0.122500002,\n",
       "       'yes': 21}],\n",
       "     'depth': 2,\n",
       "     'missing': 9,\n",
       "     'no': 10,\n",
       "     'nodeid': 4,\n",
       "     'split': 'f2',\n",
       "     'split_condition': 0.0974999964,\n",
       "     'yes': 9}],\n",
       "   'depth': 1,\n",
       "   'missing': 3,\n",
       "   'no': 4,\n",
       "   'nodeid': 1,\n",
       "   'split': 'f9',\n",
       "   'split_condition': 0.5,\n",
       "   'yes': 3},\n",
       "  {'children': [{'children': [{'children': [{'leaf': -0.0346718989,\n",
       "         'nodeid': 23},\n",
       "        {'leaf': 0.0182186197, 'nodeid': 24}],\n",
       "       'depth': 3,\n",
       "       'missing': 23,\n",
       "       'no': 24,\n",
       "       'nodeid': 11,\n",
       "       'split': 'f4',\n",
       "       'split_condition': 0.300249994,\n",
       "       'yes': 23},\n",
       "      {'children': [{'leaf': 0.0488888882, 'nodeid': 25},\n",
       "        {'leaf': 0.00538599258, 'nodeid': 26}],\n",
       "       'depth': 3,\n",
       "       'missing': 25,\n",
       "       'no': 26,\n",
       "       'nodeid': 12,\n",
       "       'split': 'f2',\n",
       "       'split_condition': 0.127499998,\n",
       "       'yes': 25}],\n",
       "     'depth': 2,\n",
       "     'missing': 11,\n",
       "     'no': 12,\n",
       "     'nodeid': 5,\n",
       "     'split': 'f9',\n",
       "     'split_condition': 0.5,\n",
       "     'yes': 11},\n",
       "    {'children': [{'children': [{'leaf': -0.0564179197, 'nodeid': 27},\n",
       "        {'leaf': -0.0238141399, 'nodeid': 28}],\n",
       "       'depth': 3,\n",
       "       'missing': 27,\n",
       "       'no': 28,\n",
       "       'nodeid': 13,\n",
       "       'split': 'f4',\n",
       "       'split_condition': 0.397249997,\n",
       "       'yes': 27},\n",
       "      {'children': [{'leaf': -2.55448485e-09, 'nodeid': 29},\n",
       "        {'leaf': -0.0682812259, 'nodeid': 30}],\n",
       "       'depth': 3,\n",
       "       'missing': 29,\n",
       "       'no': 30,\n",
       "       'nodeid': 14,\n",
       "       'split': 'f0',\n",
       "       'split_condition': 0.507499993,\n",
       "       'yes': 29}],\n",
       "     'depth': 2,\n",
       "     'missing': 13,\n",
       "     'no': 14,\n",
       "     'nodeid': 6,\n",
       "     'split': 'f6',\n",
       "     'split_condition': 0.292249978,\n",
       "     'yes': 13}],\n",
       "   'depth': 1,\n",
       "   'missing': 5,\n",
       "   'no': 6,\n",
       "   'nodeid': 2,\n",
       "   'split': 'f6',\n",
       "   'split_condition': 0.233750001,\n",
       "   'yes': 5}],\n",
       " 'depth': 0,\n",
       " 'missing': 1,\n",
       " 'no': 2,\n",
       " 'nodeid': 0,\n",
       " 'split': 'f6',\n",
       " 'split_condition': 0.144499987,\n",
       " 'yes': 1}"
      ]
     },
     "execution_count": 39,
     "metadata": {},
     "output_type": "execute_result"
    }
   ],
   "source": [
    "trees[0]"
   ]
  },
  {
   "cell_type": "code",
   "execution_count": 35,
   "metadata": {},
   "outputs": [
    {
     "data": {
      "text/plain": [
       "90"
      ]
     },
     "execution_count": 35,
     "metadata": {},
     "output_type": "execute_result"
    }
   ],
   "source": [
    "len(trees)"
   ]
  }
 ],
 "metadata": {
  "kernelspec": {
   "display_name": "Python 3",
   "language": "python",
   "name": "python3"
  },
  "language_info": {
   "codemirror_mode": {
    "name": "ipython",
    "version": 3
   },
   "file_extension": ".py",
   "mimetype": "text/x-python",
   "name": "python",
   "nbconvert_exporter": "python",
   "pygments_lexer": "ipython3",
   "version": "3.7.0b3"
  }
 },
 "nbformat": 4,
 "nbformat_minor": 1
}
