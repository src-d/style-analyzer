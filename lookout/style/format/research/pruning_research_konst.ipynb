{
 "cells": [
  {
   "cell_type": "code",
   "execution_count": 15,
   "metadata": {},
   "outputs": [
    {
     "name": "stdout",
     "output_type": "stream",
     "text": [
      "--2018-08-01 17:04:36--  https://archive.ics.uci.edu/ml/machine-learning-databases/00257/Data_User_Modeling_Dataset_Hamdi%20Tolga%20KAHRAMAN.xls\n",
      "Resolving archive.ics.uci.edu... 128.195.10.249\n",
      "Connecting to archive.ics.uci.edu|128.195.10.249|:443... connected.\n",
      "HTTP request sent, awaiting response... 200 OK\n",
      "Length: 57856 (56K) [application/vnd.ms-excel]\n",
      "Saving to: 'Data_User_Modeling_Dataset_Hamdi Tolga KAHRAMAN.xls'\n",
      "\n",
      "Data_User_Modeling_ 100%[===================>]  56.50K   135KB/s    in 0.4s    \n",
      "\n",
      "2018-08-01 17:04:37 (135 KB/s) - 'Data_User_Modeling_Dataset_Hamdi Tolga KAHRAMAN.xls' saved [57856/57856]\n",
      "\n"
     ]
    }
   ],
   "source": [
    "! wget https://archive.ics.uci.edu/ml/machine-learning-databases/00257/Data_User_Modeling_Dataset_Hamdi%20Tolga%20KAHRAMAN.xls"
   ]
  },
  {
   "cell_type": "code",
   "execution_count": 1,
   "metadata": {},
   "outputs": [
    {
     "name": "stdout",
     "output_type": "stream",
     "text": [
      "Number of samples: 258\n"
     ]
    },
    {
     "data": {
      "text/html": [
       "<div>\n",
       "<style scoped>\n",
       "    .dataframe tbody tr th:only-of-type {\n",
       "        vertical-align: middle;\n",
       "    }\n",
       "\n",
       "    .dataframe tbody tr th {\n",
       "        vertical-align: top;\n",
       "    }\n",
       "\n",
       "    .dataframe thead th {\n",
       "        text-align: right;\n",
       "    }\n",
       "</style>\n",
       "<table border=\"1\" class=\"dataframe\">\n",
       "  <thead>\n",
       "    <tr style=\"text-align: right;\">\n",
       "      <th></th>\n",
       "      <th>STG</th>\n",
       "      <th>SCG</th>\n",
       "      <th>STR</th>\n",
       "      <th>LPR</th>\n",
       "      <th>PEG</th>\n",
       "      <th>UNS</th>\n",
       "    </tr>\n",
       "  </thead>\n",
       "  <tbody>\n",
       "    <tr>\n",
       "      <th>0</th>\n",
       "      <td>0.00</td>\n",
       "      <td>0.00</td>\n",
       "      <td>0.00</td>\n",
       "      <td>0.00</td>\n",
       "      <td>0.00</td>\n",
       "      <td>very_low</td>\n",
       "    </tr>\n",
       "    <tr>\n",
       "      <th>1</th>\n",
       "      <td>0.08</td>\n",
       "      <td>0.08</td>\n",
       "      <td>0.10</td>\n",
       "      <td>0.24</td>\n",
       "      <td>0.90</td>\n",
       "      <td>High</td>\n",
       "    </tr>\n",
       "    <tr>\n",
       "      <th>2</th>\n",
       "      <td>0.06</td>\n",
       "      <td>0.06</td>\n",
       "      <td>0.05</td>\n",
       "      <td>0.25</td>\n",
       "      <td>0.33</td>\n",
       "      <td>Low</td>\n",
       "    </tr>\n",
       "    <tr>\n",
       "      <th>3</th>\n",
       "      <td>0.10</td>\n",
       "      <td>0.10</td>\n",
       "      <td>0.15</td>\n",
       "      <td>0.65</td>\n",
       "      <td>0.30</td>\n",
       "      <td>Middle</td>\n",
       "    </tr>\n",
       "    <tr>\n",
       "      <th>4</th>\n",
       "      <td>0.08</td>\n",
       "      <td>0.08</td>\n",
       "      <td>0.08</td>\n",
       "      <td>0.98</td>\n",
       "      <td>0.24</td>\n",
       "      <td>Low</td>\n",
       "    </tr>\n",
       "  </tbody>\n",
       "</table>\n",
       "</div>"
      ],
      "text/plain": [
       "    STG   SCG   STR   LPR   PEG       UNS\n",
       "0  0.00  0.00  0.00  0.00  0.00  very_low\n",
       "1  0.08  0.08  0.10  0.24  0.90      High\n",
       "2  0.06  0.06  0.05  0.25  0.33       Low\n",
       "3  0.10  0.10  0.15  0.65  0.30    Middle\n",
       "4  0.08  0.08  0.08  0.98  0.24       Low"
      ]
     },
     "execution_count": 1,
     "metadata": {},
     "output_type": "execute_result"
    }
   ],
   "source": [
    "import pandas as pd\n",
    "data_train = pd.read_excel(\"Data_User_Modeling_Dataset_Hamdi Tolga KAHRAMAN.xls\", sheet_name=1, usecols=5)\n",
    "data_test = pd.read_excel(\"Data_User_Modeling_Dataset_Hamdi Tolga KAHRAMAN.xls\", sheet_name=2, usecols=5)\n",
    "data_test = data_test.replace(\"Very Low\", \"very_low\")\n",
    "print(\"Number of samples: %d\" % len(data_train))\n",
    "data_train.head()"
   ]
  },
  {
   "cell_type": "code",
   "execution_count": 2,
   "metadata": {},
   "outputs": [
    {
     "data": {
      "text/html": [
       "<div>\n",
       "<style scoped>\n",
       "    .dataframe tbody tr th:only-of-type {\n",
       "        vertical-align: middle;\n",
       "    }\n",
       "\n",
       "    .dataframe tbody tr th {\n",
       "        vertical-align: top;\n",
       "    }\n",
       "\n",
       "    .dataframe thead th {\n",
       "        text-align: right;\n",
       "    }\n",
       "</style>\n",
       "<table border=\"1\" class=\"dataframe\">\n",
       "  <thead>\n",
       "    <tr style=\"text-align: right;\">\n",
       "      <th></th>\n",
       "      <th>STG</th>\n",
       "      <th>SCG</th>\n",
       "      <th>STR</th>\n",
       "      <th>LPR</th>\n",
       "      <th>PEG</th>\n",
       "      <th>UNS</th>\n",
       "    </tr>\n",
       "  </thead>\n",
       "  <tbody>\n",
       "    <tr>\n",
       "      <th>count</th>\n",
       "      <td>258.000000</td>\n",
       "      <td>258.000000</td>\n",
       "      <td>258.000000</td>\n",
       "      <td>258.000000</td>\n",
       "      <td>258.000000</td>\n",
       "      <td>258</td>\n",
       "    </tr>\n",
       "    <tr>\n",
       "      <th>unique</th>\n",
       "      <td>NaN</td>\n",
       "      <td>NaN</td>\n",
       "      <td>NaN</td>\n",
       "      <td>NaN</td>\n",
       "      <td>NaN</td>\n",
       "      <td>4</td>\n",
       "    </tr>\n",
       "    <tr>\n",
       "      <th>top</th>\n",
       "      <td>NaN</td>\n",
       "      <td>NaN</td>\n",
       "      <td>NaN</td>\n",
       "      <td>NaN</td>\n",
       "      <td>NaN</td>\n",
       "      <td>Middle</td>\n",
       "    </tr>\n",
       "    <tr>\n",
       "      <th>freq</th>\n",
       "      <td>NaN</td>\n",
       "      <td>NaN</td>\n",
       "      <td>NaN</td>\n",
       "      <td>NaN</td>\n",
       "      <td>NaN</td>\n",
       "      <td>88</td>\n",
       "    </tr>\n",
       "    <tr>\n",
       "      <th>mean</th>\n",
       "      <td>0.371147</td>\n",
       "      <td>0.355674</td>\n",
       "      <td>0.468004</td>\n",
       "      <td>0.432713</td>\n",
       "      <td>0.458539</td>\n",
       "      <td>NaN</td>\n",
       "    </tr>\n",
       "    <tr>\n",
       "      <th>std</th>\n",
       "      <td>0.210271</td>\n",
       "      <td>0.211962</td>\n",
       "      <td>0.245940</td>\n",
       "      <td>0.248108</td>\n",
       "      <td>0.255211</td>\n",
       "      <td>NaN</td>\n",
       "    </tr>\n",
       "    <tr>\n",
       "      <th>min</th>\n",
       "      <td>0.000000</td>\n",
       "      <td>0.000000</td>\n",
       "      <td>0.000000</td>\n",
       "      <td>0.000000</td>\n",
       "      <td>0.000000</td>\n",
       "      <td>NaN</td>\n",
       "    </tr>\n",
       "    <tr>\n",
       "      <th>25%</th>\n",
       "      <td>0.240750</td>\n",
       "      <td>0.210000</td>\n",
       "      <td>0.291250</td>\n",
       "      <td>0.250000</td>\n",
       "      <td>0.250000</td>\n",
       "      <td>NaN</td>\n",
       "    </tr>\n",
       "    <tr>\n",
       "      <th>50%</th>\n",
       "      <td>0.327000</td>\n",
       "      <td>0.302500</td>\n",
       "      <td>0.490000</td>\n",
       "      <td>0.330000</td>\n",
       "      <td>0.500000</td>\n",
       "      <td>NaN</td>\n",
       "    </tr>\n",
       "    <tr>\n",
       "      <th>75%</th>\n",
       "      <td>0.495000</td>\n",
       "      <td>0.497500</td>\n",
       "      <td>0.690000</td>\n",
       "      <td>0.647500</td>\n",
       "      <td>0.660000</td>\n",
       "      <td>NaN</td>\n",
       "    </tr>\n",
       "    <tr>\n",
       "      <th>max</th>\n",
       "      <td>0.990000</td>\n",
       "      <td>0.900000</td>\n",
       "      <td>0.950000</td>\n",
       "      <td>0.990000</td>\n",
       "      <td>0.930000</td>\n",
       "      <td>NaN</td>\n",
       "    </tr>\n",
       "  </tbody>\n",
       "</table>\n",
       "</div>"
      ],
      "text/plain": [
       "               STG         SCG         STR         LPR         PEG     UNS\n",
       "count   258.000000  258.000000  258.000000  258.000000  258.000000     258\n",
       "unique         NaN         NaN         NaN         NaN         NaN       4\n",
       "top            NaN         NaN         NaN         NaN         NaN  Middle\n",
       "freq           NaN         NaN         NaN         NaN         NaN      88\n",
       "mean      0.371147    0.355674    0.468004    0.432713    0.458539     NaN\n",
       "std       0.210271    0.211962    0.245940    0.248108    0.255211     NaN\n",
       "min       0.000000    0.000000    0.000000    0.000000    0.000000     NaN\n",
       "25%       0.240750    0.210000    0.291250    0.250000    0.250000     NaN\n",
       "50%       0.327000    0.302500    0.490000    0.330000    0.500000     NaN\n",
       "75%       0.495000    0.497500    0.690000    0.647500    0.660000     NaN\n",
       "max       0.990000    0.900000    0.950000    0.990000    0.930000     NaN"
      ]
     },
     "execution_count": 2,
     "metadata": {},
     "output_type": "execute_result"
    }
   ],
   "source": [
    "data_train.describe(include='all')"
   ]
  },
  {
   "cell_type": "code",
   "execution_count": 3,
   "metadata": {},
   "outputs": [],
   "source": [
    "import numpy as np\n",
    "import sklearn\n",
    "from sklearn import model_selection, tree\n",
    "\n",
    "train_y = data_train[\" UNS\"].values\n",
    "test_y = data_test[\" UNS\"].values\n",
    "y = np.concatenate((train_y, test_y))\n",
    "data_train.drop(\" UNS\", axis=1, inplace=True)\n",
    "data_test.drop(\" UNS\", axis=1, inplace=True)\n",
    "train_X = data_train.values.astype(np.float)\n",
    "test_X = data_test.values.astype(np.float)"
   ]
  },
  {
   "cell_type": "code",
   "execution_count": 4,
   "metadata": {},
   "outputs": [],
   "source": [
    "model = tree.DecisionTreeClassifier()\n",
    "model = model.fit(train_X, train_y)"
   ]
  },
  {
   "cell_type": "code",
   "execution_count": 5,
   "metadata": {},
   "outputs": [
    {
     "data": {
      "text/plain": [
       "0.8827586206896552"
      ]
     },
     "execution_count": 5,
     "metadata": {},
     "output_type": "execute_result"
    }
   ],
   "source": [
    "model.score(test_X, test_y)"
   ]
  },
  {
   "cell_type": "code",
   "execution_count": 6,
   "metadata": {},
   "outputs": [
    {
     "name": "stdout",
     "output_type": "stream",
     "text": [
      "Fitting 3 folds for each of 100 candidates, totalling 300 fits\n"
     ]
    },
    {
     "name": "stderr",
     "output_type": "stream",
     "text": [
      "[Parallel(n_jobs=3)]: Done 300 out of 300 | elapsed:    0.4s finished\n"
     ]
    },
    {
     "data": {
      "text/plain": [
       "0.9241379310344827"
      ]
     },
     "execution_count": 6,
     "metadata": {},
     "output_type": "execute_result"
    }
   ],
   "source": [
    "params = {\n",
    "    \"min_samples_leaf\": list(range(5, 30, 1)),\n",
    "    \"min_samples_split\": list(range(2, 4, 1)),\n",
    "    \"criterion\": [\"gini\", \"entropy\"],\n",
    "}\n",
    "gs = model_selection.GridSearchCV(tree.DecisionTreeClassifier(), params, n_jobs=3, verbose=1)\n",
    "gs = gs.fit(train_X, train_y)\n",
    "gs.score(test_X, test_y)"
   ]
  },
  {
   "cell_type": "code",
   "execution_count": 7,
   "metadata": {},
   "outputs": [
    {
     "data": {
      "text/plain": [
       "{'criterion': 'entropy', 'min_samples_leaf': 5, 'min_samples_split': 2}"
      ]
     },
     "execution_count": 7,
     "metadata": {},
     "output_type": "execute_result"
    }
   ],
   "source": [
    "gs.best_params_"
   ]
  },
  {
   "cell_type": "code",
   "execution_count": 8,
   "metadata": {},
   "outputs": [
    {
     "name": "stdout",
     "output_type": "stream",
     "text": [
      "0.9612403100775194 0.9241379310344827\n"
     ]
    }
   ],
   "source": [
    "model = tree.DecisionTreeClassifier(min_samples_leaf=5, min_samples_split=2, criterion=\"entropy\")\n",
    "model = model.fit(train_X, train_y)\n",
    "print(model.score(train_X, train_y), model.score(test_X, test_y))"
   ]
  },
  {
   "cell_type": "code",
   "execution_count": 9,
   "metadata": {
    "scrolled": false
   },
   "outputs": [],
   "source": [
    "from sklearn.tree import _tree\n",
    "\n",
    "total = 0\n",
    "\n",
    "def tree_to_code(tree, feature_names):\n",
    "    tree_ = tree.tree_\n",
    "    feature_name = [\n",
    "        feature_names[i] if i != _tree.TREE_UNDEFINED else \"undefined!\"\n",
    "        for i in tree_.feature\n",
    "    ]\n",
    "    print(\"def tree({}):\".format(\", \".join(feature_names)))\n",
    "\n",
    "    def recurse(node, depth):\n",
    "        indent = \"  \" * depth\n",
    "        if tree_.feature[node] != _tree.TREE_UNDEFINED:\n",
    "            name = feature_name[node]\n",
    "            threshold = tree_.threshold[node]\n",
    "            print(\"{}if {} <= {}:\".format(indent, name, threshold))\n",
    "            recurse(tree_.children_left[node], depth + 1)\n",
    "            print(\"{}else:  # if {} > {}\".format(indent, name, threshold))\n",
    "            recurse(tree_.children_right[node], depth + 1)\n",
    "        else:\n",
    "            global total\n",
    "            total += tree_.value[node].sum()\n",
    "            print(\"{}return {}\".format(indent, tree_.value[node]))\n",
    "\n",
    "    recurse(0, 1)\n",
    "\n",
    "#tree_to_code(model, data_train.columns)"
   ]
  },
  {
   "cell_type": "markdown",
   "metadata": {},
   "source": [
    "## Reduced error pruning"
   ]
  },
  {
   "cell_type": "code",
   "execution_count": 10,
   "metadata": {},
   "outputs": [],
   "source": [
    "from copy import deepcopy\n",
    "from sklearn.tree._tree import TREE_LEAF"
   ]
  },
  {
   "cell_type": "code",
   "execution_count": 11,
   "metadata": {},
   "outputs": [],
   "source": [
    "def tree_depth(tree):\n",
    "    max_depth = 0\n",
    "    stack = [(0,0)]\n",
    "    while stack:\n",
    "        node, depth = stack.pop()\n",
    "        if depth > max_depth:\n",
    "            max_depth = depth\n",
    "        if tree.children_left[node] != TREE_LEAF:\n",
    "            stack.append((tree.children_left[node], depth+1))\n",
    "        if tree.children_right[node] != TREE_LEAF:\n",
    "            stack.append((tree.children_right[node], depth+1))\n",
    "    return max_depth"
   ]
  },
  {
   "cell_type": "code",
   "execution_count": 12,
   "metadata": {},
   "outputs": [],
   "source": [
    "def get_parents(tree):\n",
    "    parents = {x:i for i, x in enumerate(tree.children_left) if x != TREE_LEAF}\n",
    "    parents.update({x:i for i, x in enumerate(tree.children_right) if x != TREE_LEAF})\n",
    "    return parents\n",
    "\n",
    "def prune(model, validation_X, validation_y, possible_score_drop=-0.02, verbose=False):\n",
    "    model = deepcopy(model)\n",
    "    tree = model.tree_\n",
    "    curent_score = model.score(validation_X, validation_y)\n",
    "    changes = True\n",
    "    while changes:\n",
    "        changes = False\n",
    "        leafs = np.where(tree.children_left == TREE_LEAF)[0]\n",
    "        parents = get_parents(tree)\n",
    "        for leaf in leafs:\n",
    "            if leaf not in parents:\n",
    "                continue\n",
    "            parent = parents[leaf]\n",
    "            _child_left = model.tree_.children_left[parent]\n",
    "            _child_right = model.tree_.children_right[parent]\n",
    "            _feature = model.tree_.feature[parent]\n",
    "            model.tree_.children_left[parent] = TREE_LEAF\n",
    "            model.tree_.children_right[parent] = TREE_LEAF\n",
    "            model.tree_.feature[parent] = _tree.TREE_UNDEFINED\n",
    "            new_score = model.score(validation_X, validation_y)\n",
    "            #print(curent_score, new_score, (new_score - curent_score) / curent_score)\n",
    "            score_change = (new_score - curent_score) / curent_score\n",
    "            if score_change < possible_score_drop:\n",
    "                # Bad cut\n",
    "                model.tree_.children_left[parent] = _child_left\n",
    "                model.tree_.children_right[parent] = _child_right\n",
    "                model.tree_.feature[parent] = _feature\n",
    "            else:\n",
    "                if verbose:\n",
    "                    print(\"Remove {:2} and {:2} leafs. Score change: {:.3f}\".format(_child_right, _child_left, score_change))\n",
    "                changes = True\n",
    "                break\n",
    "    return model"
   ]
  },
  {
   "cell_type": "code",
   "execution_count": 13,
   "metadata": {},
   "outputs": [
    {
     "name": "stdout",
     "output_type": "stream",
     "text": [
      "Remove  4 and  3 leafs. Score change: 0.000\n",
      "Remove  6 and  5 leafs. Score change: 0.000\n",
      "Remove 10 and  9 leafs. Score change: 0.000\n",
      "Remove 15 and 14 leafs. Score change: 0.007\n",
      "Remove 20 and 19 leafs. Score change: 0.007\n",
      "Remove 24 and 23 leafs. Score change: 0.007\n",
      "Remove  4 and  3 leafs. Score change: 0.000\n",
      "Remove  6 and  5 leafs. Score change: 0.000\n",
      "Remove 10 and  9 leafs. Score change: 0.000\n",
      "Remove 11 and  8 leafs. Score change: -0.030\n",
      "Remove 13 and 12 leafs. Score change: -0.030\n",
      "Remove 15 and 14 leafs. Score change: -0.030\n",
      "Remove 20 and 19 leafs. Score change: -0.030\n",
      "Remove 24 and 23 leafs. Score change: -0.030\n"
     ]
    }
   ],
   "source": [
    "pruned_model = prune(model, test_X, test_y, verbose=True)\n",
    "hard_pruned_model = prune(model, test_X, test_y, verbose=True, possible_score_drop=-0.05)"
   ]
  },
  {
   "cell_type": "code",
   "execution_count": 14,
   "metadata": {},
   "outputs": [],
   "source": [
    "def tree_to_rules(tree, feature_names):\n",
    "    from sklearn.tree import _tree as Tree\n",
    "    \n",
    "    tree = tree.tree_\n",
    "    feature_names = [\n",
    "        feature_names[i] if i != Tree.TREE_UNDEFINED else \"TREE_UNDEFINED\"\n",
    "        for i in tree.feature\n",
    "    ]\n",
    "    queue = [(0, tuple())]\n",
    "    rules = []\n",
    "    while queue:\n",
    "        node, path = queue.pop()\n",
    "        if tree.feature[node] != Tree.TREE_UNDEFINED:\n",
    "            name = feature_names[node]\n",
    "            threshold = tree.threshold[node]\n",
    "            queue.append((tree.children_left[node], path + ((name, False, threshold),)))  # <= threshold\n",
    "            queue.append((tree.children_right[node], path + ((name, True, threshold),)))  # > threshold\n",
    "        else:\n",
    "            rules.append((path, tuple(tree.value[node][0])))\n",
    "    return rules"
   ]
  },
  {
   "cell_type": "code",
   "execution_count": 15,
   "metadata": {},
   "outputs": [],
   "source": [
    "rules = tree_to_rules(model, data_train.columns)\n",
    "rules_pruned = tree_to_rules(pruned_model, data_train.columns)\n",
    "rules_hard_pruned = tree_to_rules(hard_pruned_model, data_train.columns)"
   ]
  },
  {
   "cell_type": "code",
   "execution_count": 16,
   "metadata": {},
   "outputs": [
    {
     "data": {
      "text/plain": [
       "[((('PEG', True, 0.375), ('PEG', True, 0.675000011920929)),\n",
       "  (52.0, 0.0, 1.0, 0.0)),\n",
       " ((('PEG', True, 0.375),\n",
       "   ('PEG', False, 0.675000011920929),\n",
       "   ('LPR', True, 0.8300000429153442)),\n",
       "  (10.0, 0.0, 0.0, 0.0)),\n",
       " ((('PEG', True, 0.375),\n",
       "   ('PEG', False, 0.675000011920929),\n",
       "   ('LPR', False, 0.8300000429153442)),\n",
       "  (1.0, 0.0, 74.0, 0.0)),\n",
       " ((('PEG', False, 0.375), ('PEG', True, 0.13499999046325684)),\n",
       "  (0.0, 74.0, 13.0, 3.0)),\n",
       " ((('PEG', False, 0.375), ('PEG', False, 0.13499999046325684)),\n",
       "  (0.0, 9.0, 0.0, 21.0))]"
      ]
     },
     "execution_count": 16,
     "metadata": {},
     "output_type": "execute_result"
    }
   ],
   "source": [
    "rules_hard_pruned"
   ]
  },
  {
   "cell_type": "code",
   "execution_count": 17,
   "metadata": {},
   "outputs": [
    {
     "data": {
      "text/plain": [
       "(50, 21, 12)"
      ]
     },
     "execution_count": 17,
     "metadata": {},
     "output_type": "execute_result"
    }
   ],
   "source": [
    "(sum([len(r[0]) for r in rules]), \n",
    " sum([len(r[0]) for r in rules_pruned]), \n",
    " sum([len(r[0]) for r in rules_hard_pruned]))"
   ]
  },
  {
   "cell_type": "code",
   "execution_count": 18,
   "metadata": {},
   "outputs": [
    {
     "name": "stdout",
     "output_type": "stream",
     "text": [
      "13 5\n",
      "7 4\n",
      "5 3\n"
     ]
    }
   ],
   "source": [
    "print(len(rules), tree_depth(model.tree_))\n",
    "print(len(rules_pruned), tree_depth(pruned_model.tree_))\n",
    "print(len(rules_hard_pruned), tree_depth(hard_pruned_model.tree_))"
   ]
  },
  {
   "cell_type": "code",
   "execution_count": 19,
   "metadata": {},
   "outputs": [
    {
     "data": {
      "text/plain": [
       "0.896551724137931"
      ]
     },
     "execution_count": 19,
     "metadata": {},
     "output_type": "execute_result"
    }
   ],
   "source": [
    "hard_pruned_model.score(test_X, test_y)"
   ]
  },
  {
   "cell_type": "code",
   "execution_count": 20,
   "metadata": {},
   "outputs": [
    {
     "data": {
      "text/plain": [
       "0.9310344827586207"
      ]
     },
     "execution_count": 20,
     "metadata": {},
     "output_type": "execute_result"
    }
   ],
   "source": [
    "pruned_model.score(test_X, test_y)"
   ]
  },
  {
   "cell_type": "code",
   "execution_count": 21,
   "metadata": {},
   "outputs": [
    {
     "data": {
      "text/plain": [
       "0.9241379310344827"
      ]
     },
     "execution_count": 21,
     "metadata": {},
     "output_type": "execute_result"
    }
   ],
   "source": [
    "model.score(test_X, test_y)"
   ]
  },
  {
   "cell_type": "code",
   "execution_count": null,
   "metadata": {},
   "outputs": [],
   "source": []
  }
 ],
 "metadata": {
  "kernelspec": {
   "display_name": "Python 3",
   "language": "python",
   "name": "python3"
  },
  "language_info": {
   "codemirror_mode": {
    "name": "ipython",
    "version": 3
   },
   "file_extension": ".py",
   "mimetype": "text/x-python",
   "name": "python",
   "nbconvert_exporter": "python",
   "pygments_lexer": "ipython3",
   "version": "3.7.0b3"
  }
 },
 "nbformat": 4,
 "nbformat_minor": 1
}
