{
 "cells": [
  {
   "cell_type": "code",
   "execution_count": 1,
   "metadata": {},
   "outputs": [],
   "source": [
    "!if [ ! -e abalone.data ]; then wget http://archive.ics.uci.edu/ml/machine-learning-databases/abalone/abalone.data; fi"
   ]
  },
  {
   "cell_type": "code",
   "execution_count": 2,
   "metadata": {},
   "outputs": [],
   "source": [
    "import pandas as pd"
   ]
  },
  {
   "cell_type": "code",
   "execution_count": 3,
   "metadata": {},
   "outputs": [
    {
     "name": "stdout",
     "output_type": "stream",
     "text": [
      "Number of samples: 4177\n"
     ]
    },
    {
     "data": {
      "text/html": [
       "<div>\n",
       "<style scoped>\n",
       "    .dataframe tbody tr th:only-of-type {\n",
       "        vertical-align: middle;\n",
       "    }\n",
       "\n",
       "    .dataframe tbody tr th {\n",
       "        vertical-align: top;\n",
       "    }\n",
       "\n",
       "    .dataframe thead th {\n",
       "        text-align: right;\n",
       "    }\n",
       "</style>\n",
       "<table border=\"1\" class=\"dataframe\">\n",
       "  <thead>\n",
       "    <tr style=\"text-align: right;\">\n",
       "      <th></th>\n",
       "      <th>sex</th>\n",
       "      <th>length</th>\n",
       "      <th>diameter</th>\n",
       "      <th>height</th>\n",
       "      <th>whole weight</th>\n",
       "      <th>shucked weight</th>\n",
       "      <th>viscera weight</th>\n",
       "      <th>shell weight</th>\n",
       "      <th>rings</th>\n",
       "    </tr>\n",
       "  </thead>\n",
       "  <tbody>\n",
       "    <tr>\n",
       "      <th>0</th>\n",
       "      <td>M</td>\n",
       "      <td>0.455</td>\n",
       "      <td>0.365</td>\n",
       "      <td>0.095</td>\n",
       "      <td>0.5140</td>\n",
       "      <td>0.2245</td>\n",
       "      <td>0.1010</td>\n",
       "      <td>0.150</td>\n",
       "      <td>15</td>\n",
       "    </tr>\n",
       "    <tr>\n",
       "      <th>1</th>\n",
       "      <td>M</td>\n",
       "      <td>0.350</td>\n",
       "      <td>0.265</td>\n",
       "      <td>0.090</td>\n",
       "      <td>0.2255</td>\n",
       "      <td>0.0995</td>\n",
       "      <td>0.0485</td>\n",
       "      <td>0.070</td>\n",
       "      <td>7</td>\n",
       "    </tr>\n",
       "    <tr>\n",
       "      <th>2</th>\n",
       "      <td>F</td>\n",
       "      <td>0.530</td>\n",
       "      <td>0.420</td>\n",
       "      <td>0.135</td>\n",
       "      <td>0.6770</td>\n",
       "      <td>0.2565</td>\n",
       "      <td>0.1415</td>\n",
       "      <td>0.210</td>\n",
       "      <td>9</td>\n",
       "    </tr>\n",
       "    <tr>\n",
       "      <th>3</th>\n",
       "      <td>M</td>\n",
       "      <td>0.440</td>\n",
       "      <td>0.365</td>\n",
       "      <td>0.125</td>\n",
       "      <td>0.5160</td>\n",
       "      <td>0.2155</td>\n",
       "      <td>0.1140</td>\n",
       "      <td>0.155</td>\n",
       "      <td>10</td>\n",
       "    </tr>\n",
       "    <tr>\n",
       "      <th>4</th>\n",
       "      <td>I</td>\n",
       "      <td>0.330</td>\n",
       "      <td>0.255</td>\n",
       "      <td>0.080</td>\n",
       "      <td>0.2050</td>\n",
       "      <td>0.0895</td>\n",
       "      <td>0.0395</td>\n",
       "      <td>0.055</td>\n",
       "      <td>7</td>\n",
       "    </tr>\n",
       "  </tbody>\n",
       "</table>\n",
       "</div>"
      ],
      "text/plain": [
       "  sex  length  diameter  height  whole weight  shucked weight  viscera weight  \\\n",
       "0   M   0.455     0.365   0.095        0.5140          0.2245          0.1010   \n",
       "1   M   0.350     0.265   0.090        0.2255          0.0995          0.0485   \n",
       "2   F   0.530     0.420   0.135        0.6770          0.2565          0.1415   \n",
       "3   M   0.440     0.365   0.125        0.5160          0.2155          0.1140   \n",
       "4   I   0.330     0.255   0.080        0.2050          0.0895          0.0395   \n",
       "\n",
       "   shell weight  rings  \n",
       "0         0.150     15  \n",
       "1         0.070      7  \n",
       "2         0.210      9  \n",
       "3         0.155     10  \n",
       "4         0.055      7  "
      ]
     },
     "execution_count": 3,
     "metadata": {},
     "output_type": "execute_result"
    }
   ],
   "source": [
    "column_names = [\"sex\", \"length\", \"diameter\", \"height\", \"whole weight\", \n",
    "                \"shucked weight\", \"viscera weight\", \"shell weight\", \"rings\"]\n",
    "data = pd.read_csv(\"abalone.data\", names=column_names)\n",
    "print(\"Number of samples: %d\" % len(data))\n",
    "data.head()"
   ]
  },
  {
   "cell_type": "code",
   "execution_count": 4,
   "metadata": {},
   "outputs": [
    {
     "data": {
      "text/html": [
       "<div>\n",
       "<style scoped>\n",
       "    .dataframe tbody tr th:only-of-type {\n",
       "        vertical-align: middle;\n",
       "    }\n",
       "\n",
       "    .dataframe tbody tr th {\n",
       "        vertical-align: top;\n",
       "    }\n",
       "\n",
       "    .dataframe thead th {\n",
       "        text-align: right;\n",
       "    }\n",
       "</style>\n",
       "<table border=\"1\" class=\"dataframe\">\n",
       "  <thead>\n",
       "    <tr style=\"text-align: right;\">\n",
       "      <th></th>\n",
       "      <th>length</th>\n",
       "      <th>diameter</th>\n",
       "      <th>height</th>\n",
       "      <th>whole weight</th>\n",
       "      <th>shucked weight</th>\n",
       "      <th>viscera weight</th>\n",
       "      <th>shell weight</th>\n",
       "      <th>rings</th>\n",
       "      <th>M</th>\n",
       "      <th>F</th>\n",
       "      <th>I</th>\n",
       "    </tr>\n",
       "  </thead>\n",
       "  <tbody>\n",
       "    <tr>\n",
       "      <th>0</th>\n",
       "      <td>0.455</td>\n",
       "      <td>0.365</td>\n",
       "      <td>0.095</td>\n",
       "      <td>0.5140</td>\n",
       "      <td>0.2245</td>\n",
       "      <td>0.1010</td>\n",
       "      <td>0.150</td>\n",
       "      <td>15</td>\n",
       "      <td>True</td>\n",
       "      <td>False</td>\n",
       "      <td>False</td>\n",
       "    </tr>\n",
       "    <tr>\n",
       "      <th>1</th>\n",
       "      <td>0.350</td>\n",
       "      <td>0.265</td>\n",
       "      <td>0.090</td>\n",
       "      <td>0.2255</td>\n",
       "      <td>0.0995</td>\n",
       "      <td>0.0485</td>\n",
       "      <td>0.070</td>\n",
       "      <td>7</td>\n",
       "      <td>True</td>\n",
       "      <td>False</td>\n",
       "      <td>False</td>\n",
       "    </tr>\n",
       "    <tr>\n",
       "      <th>2</th>\n",
       "      <td>0.530</td>\n",
       "      <td>0.420</td>\n",
       "      <td>0.135</td>\n",
       "      <td>0.6770</td>\n",
       "      <td>0.2565</td>\n",
       "      <td>0.1415</td>\n",
       "      <td>0.210</td>\n",
       "      <td>9</td>\n",
       "      <td>False</td>\n",
       "      <td>True</td>\n",
       "      <td>False</td>\n",
       "    </tr>\n",
       "    <tr>\n",
       "      <th>3</th>\n",
       "      <td>0.440</td>\n",
       "      <td>0.365</td>\n",
       "      <td>0.125</td>\n",
       "      <td>0.5160</td>\n",
       "      <td>0.2155</td>\n",
       "      <td>0.1140</td>\n",
       "      <td>0.155</td>\n",
       "      <td>10</td>\n",
       "      <td>True</td>\n",
       "      <td>False</td>\n",
       "      <td>False</td>\n",
       "    </tr>\n",
       "    <tr>\n",
       "      <th>4</th>\n",
       "      <td>0.330</td>\n",
       "      <td>0.255</td>\n",
       "      <td>0.080</td>\n",
       "      <td>0.2050</td>\n",
       "      <td>0.0895</td>\n",
       "      <td>0.0395</td>\n",
       "      <td>0.055</td>\n",
       "      <td>7</td>\n",
       "      <td>False</td>\n",
       "      <td>False</td>\n",
       "      <td>True</td>\n",
       "    </tr>\n",
       "  </tbody>\n",
       "</table>\n",
       "</div>"
      ],
      "text/plain": [
       "   length  diameter  height  whole weight  shucked weight  viscera weight  \\\n",
       "0   0.455     0.365   0.095        0.5140          0.2245          0.1010   \n",
       "1   0.350     0.265   0.090        0.2255          0.0995          0.0485   \n",
       "2   0.530     0.420   0.135        0.6770          0.2565          0.1415   \n",
       "3   0.440     0.365   0.125        0.5160          0.2155          0.1140   \n",
       "4   0.330     0.255   0.080        0.2050          0.0895          0.0395   \n",
       "\n",
       "   shell weight  rings      M      F      I  \n",
       "0         0.150     15   True  False  False  \n",
       "1         0.070      7   True  False  False  \n",
       "2         0.210      9  False   True  False  \n",
       "3         0.155     10   True  False  False  \n",
       "4         0.055      7  False  False   True  "
      ]
     },
     "execution_count": 4,
     "metadata": {},
     "output_type": "execute_result"
    }
   ],
   "source": [
    "# for more complicated cases use sklearn.feature_extraction.DictVectorizer# for m \n",
    "for label in \"MFI\":\n",
    "    data[label] = data[\"sex\"] == label\n",
    "del data[\"sex\"]\n",
    "data.head()"
   ]
  },
  {
   "cell_type": "code",
   "execution_count": 5,
   "metadata": {},
   "outputs": [
    {
     "name": "stderr",
     "output_type": "stream",
     "text": [
      "/usr/local/lib/python3.7/dist-packages/sklearn/model_selection/_search.py:16: DeprecationWarning: Using or importing the ABCs from 'collections' instead of from 'collections.abc' is deprecated, and in 3.8 it will stop working\n",
      "  from collections import Mapping, namedtuple, defaultdict, Sequence\n"
     ]
    }
   ],
   "source": [
    "import numpy as np\n",
    "from sklearn import model_selection, tree\n",
    "\n",
    "y = data.rings.values\n",
    "del data[\"rings\"] # remove rings from data, so we can convert all the dataframe to a numpy 2D array.\n",
    "X = data.values.astype(np.float)\n",
    "train_X, test_X, train_y, test_y = model_selection.train_test_split(X, y) # splits 75%/25% by default"
   ]
  },
  {
   "cell_type": "code",
   "execution_count": 7,
   "metadata": {},
   "outputs": [],
   "source": [
    "model = tree.DecisionTreeClassifier()\n",
    "model = model.fit(train_X, train_y)"
   ]
  },
  {
   "cell_type": "code",
   "execution_count": 11,
   "metadata": {},
   "outputs": [
    {
     "data": {
      "text/plain": [
       "0.19712918660287082"
      ]
     },
     "execution_count": 11,
     "metadata": {},
     "output_type": "execute_result"
    }
   ],
   "source": [
    "model.score(test_X, test_y)"
   ]
  },
  {
   "cell_type": "code",
   "execution_count": 17,
   "metadata": {},
   "outputs": [
    {
     "name": "stdout",
     "output_type": "stream",
     "text": [
      "Populating the interactive namespace from numpy and matplotlib\n"
     ]
    }
   ],
   "source": [
    "%pylab inline"
   ]
  },
  {
   "cell_type": "code",
   "execution_count": 18,
   "metadata": {},
   "outputs": [
    {
     "data": {
      "text/plain": [
       "(array([  17.,  431., 1648., 1388.,  329.,  228.,  100.,   29.,    4.,\n",
       "           3.]),\n",
       " array([ 1. ,  3.8,  6.6,  9.4, 12.2, 15. , 17.8, 20.6, 23.4, 26.2, 29. ]),\n",
       " <a list of 10 Patch objects>)"
      ]
     },
     "execution_count": 18,
     "metadata": {},
     "output_type": "execute_result"
    },
    {
     "data": {
      "image/png": "[encoded data removed]",
      "text/plain": [
       "<matplotlib.figure.Figure at 0x7fe36c370f98>"
      ]
     },
     "metadata": {},
     "output_type": "display_data"
    }
   ],
   "source": [
    "hist(y)"
   ]
  },
  {
   "cell_type": "code",
   "execution_count": 45,
   "metadata": {
    "scrolled": true
   },
   "outputs": [
    {
     "name": "stdout",
     "output_type": "stream",
     "text": [
      "{1: 0, 2: 0, 3: 0, 4: 0, 5: 0, 6: 0, 7: 0, 8: 0, 9: 1, 10: 1, 11: 1, 12: 1, 13: 2, 14: 2, 15: 2, 16: 2, 17: 2, 18: 2, 19: 2, 20: 2, 21: 2, 22: 2, 23: 2, 24: 2, 25: 2, 26: 2, 27: 2, 28: 2, 29: 2}\n"
     ]
    }
   ],
   "source": [
    "interval = len(y) / 2\n",
    "ymap = {}\n",
    "accum = 0\n",
    "i = 0\n",
    "for val in range(y.min(), y.max() + 1):\n",
    "    delta = (y == val).sum()\n",
    "    accum += delta\n",
    "    if accum > interval:\n",
    "        accum = delta\n",
    "        i += 1\n",
    "    ymap[val] = i\n",
    "print(ymap)"
   ]
  },
  {
   "cell_type": "code",
   "execution_count": 46,
   "metadata": {},
   "outputs": [],
   "source": [
    "mapped_y = numpy.zeros(len(y), dtype=int)\n",
    "for i, v in enumerate(y):\n",
    "    mapped_y[i] = ymap[v]\n",
    "train_X, test_X, train_y, test_y = model_selection.train_test_split(X, mapped_y)"
   ]
  },
  {
   "cell_type": "code",
   "execution_count": 67,
   "metadata": {},
   "outputs": [
    {
     "name": "stdout",
     "output_type": "stream",
     "text": [
      "Fitting 3 folds for each of 20 candidates, totalling 60 fits\n"
     ]
    },
    {
     "name": "stderr",
     "output_type": "stream",
     "text": [
      "[Parallel(n_jobs=3)]: Done  60 out of  60 | elapsed:    0.3s finished\n",
      "/usr/local/lib/python3.7/dist-packages/sklearn/model_selection/_search.py:718: DeprecationWarning: The default of the `iid` parameter will change from True to False in version 0.22 and will be removed in 0.24. This will change numeric results when test-set sizes are unequal.\n",
      "  DeprecationWarning)\n"
     ]
    },
    {
     "data": {
      "text/plain": [
       "0.7526933205649988"
      ]
     },
     "execution_count": 67,
     "metadata": {},
     "output_type": "execute_result"
    }
   ],
   "source": [
    "params = {\n",
    "    \"min_samples_leaf\": list(range(20, 30, 1)),\n",
    "    \"min_samples_split\": list(range(2, 4, 1)),\n",
    "}\n",
    "gs = model_selection.GridSearchCV(tree.DecisionTreeClassifier(), params, n_jobs=3, verbose=1)\n",
    "gs = gs.fit(X, mapped_y)\n",
    "gs.score(X, mapped_y)"
   ]
  },
  {
   "cell_type": "code",
   "execution_count": 61,
   "metadata": {},
   "outputs": [
    {
     "data": {
      "text/plain": [
       "{'min_samples_leaf': 26, 'min_samples_split': 2}"
      ]
     },
     "execution_count": 61,
     "metadata": {},
     "output_type": "execute_result"
    }
   ],
   "source": [
    "model.best_params_"
   ]
  },
  {
   "cell_type": "code",
   "execution_count": 80,
   "metadata": {},
   "outputs": [
    {
     "name": "stdout",
     "output_type": "stream",
     "text": [
      "0.7589399744572158 0.6985645933014354\n"
     ]
    }
   ],
   "source": [
    "model = tree.DecisionTreeClassifier(min_samples_leaf=26)\n",
    "model = model.fit(train_X, train_y)\n",
    "print(model.score(train_X, train_y), model.score(test_X, test_y))\n",
    "model = model.fit(X, mapped_y)"
   ]
  },
  {
   "cell_type": "code",
   "execution_count": 66,
   "metadata": {},
   "outputs": [
    {
     "name": "stdout",
     "output_type": "stream",
     "text": [
      "def tree(length, diameter, height, whole weight, shucked weight, viscera weight, shell weight, M, F, I):\n",
      "  if shell weight <= 0.1537500023841858:\n",
      "    if I <= 0.5:\n",
      "      if shucked weight <= 0.22600000351667404:\n",
      "        if diameter <= 0.2775000035762787:\n",
      "          if diameter <= 0.23250000178813934:\n",
      "            return [[24.  3.  0.]]\n",
      "          else:  # if diameter > 0.23250000178813934\n",
      "            if shucked weight <= 0.07750000059604645:\n",
      "              return [[10. 16.  0.]]\n",
      "            else:  # if shucked weight > 0.07750000059604645\n",
      "              return [[22.  7.  1.]]\n",
      "        else:  # if diameter > 0.2775000035762787\n",
      "          if height <= 0.12249999865889549:\n",
      "            if shucked weight <= 0.12524999678134918:\n",
      "              return [[ 8. 28.  3.]]\n",
      "            else:  # if shucked weight > 0.12524999678134918\n",
      "              if shell weight <= 0.1197499968111515:\n",
      "                return [[24. 11.  2.]]\n",
      "              else:  # if shell weight > 0.1197499968111515\n",
      "                return [[17. 24.  3.]]\n",
      "          else:  # if height > 0.12249999865889549\n",
      "            return [[ 5. 29.  7.]]\n",
      "      else:  # if shucked weight > 0.22600000351667404\n",
      "        return [[43.  6.  1.]]\n",
      "    else:  # if I > 0.5\n",
      "      if shell weight <= 0.1119999997317791:\n",
      "        if height <= 0.09750000014901161:\n",
      "          if viscera weight <= 0.03375000134110451:\n",
      "            return [[176.   0.   0.]]\n",
      "          else:  # if viscera weight > 0.03375000134110451\n",
      "            if shucked weight <= 0.07475000247359276:\n",
      "              return [[34.  6.  0.]]\n",
      "            else:  # if shucked weight > 0.07475000247359276\n",
      "              if viscera weight <= 0.053999999538064:\n",
      "                return [[95.  0.  0.]]\n",
      "              else:  # if viscera weight > 0.053999999538064\n",
      "                if whole weight <= 0.2682500034570694:\n",
      "                  return [[22.  3.  1.]]\n",
      "                else:  # if whole weight > 0.2682500034570694\n",
      "                  return [[38.  0.  0.]]\n",
      "        else:  # if height > 0.09750000014901161\n",
      "          if viscera weight <= 0.060750000178813934:\n",
      "            return [[35. 10.  0.]]\n",
      "          else:  # if viscera weight > 0.060750000178813934\n",
      "            if viscera weight <= 0.07800000160932541:\n",
      "              return [[47.  1.  0.]]\n",
      "            else:  # if viscera weight > 0.07800000160932541\n",
      "              return [[40.  6.  0.]]\n",
      "      else:  # if shell weight > 0.1119999997317791\n",
      "        if shucked weight <= 0.21774999797344208:\n",
      "          if shell weight <= 0.13475000113248825:\n",
      "            if viscera weight <= 0.08324999734759331:\n",
      "              return [[17. 11.  0.]]\n",
      "            else:  # if viscera weight > 0.08324999734759331\n",
      "              return [[23.  6.  3.]]\n",
      "          else:  # if shell weight > 0.13475000113248825\n",
      "            return [[22. 20.  3.]]\n",
      "        else:  # if shucked weight > 0.21774999797344208\n",
      "          if shell weight <= 0.135500006377697:\n",
      "            return [[25.  2.  0.]]\n",
      "          else:  # if shell weight > 0.135500006377697\n",
      "            return [[21.  6.  0.]]\n",
      "  else:  # if shell weight > 0.1537500023841858\n",
      "    if shell weight <= 0.24925000220537186:\n",
      "      if shucked weight <= 0.24774999916553497:\n",
      "        if shell weight <= 0.19474999606609344:\n",
      "          if I <= 0.5:\n",
      "            if shell weight <= 0.16600000113248825:\n",
      "              return [[ 4. 31.  3.]]\n",
      "            else:  # if shell weight > 0.16600000113248825\n",
      "              return [[10. 27. 12.]]\n",
      "          else:  # if I > 0.5\n",
      "            if shucked weight <= 0.21074999868869781:\n",
      "              return [[ 7. 12.  7.]]\n",
      "            else:  # if shucked weight > 0.21074999868869781\n",
      "              return [[19. 17.  0.]]\n",
      "        else:  # if shell weight > 0.19474999606609344\n",
      "          if shucked weight <= 0.22375000268220901:\n",
      "            return [[ 1.  7. 20.]]\n",
      "          else:  # if shucked weight > 0.22375000268220901\n",
      "            return [[ 2. 14. 10.]]\n",
      "      else:  # if shucked weight > 0.24774999916553497\n",
      "        if shell weight <= 0.18524999916553497:\n",
      "          if viscera weight <= 0.1249999962747097:\n",
      "            return [[29.  8.  0.]]\n",
      "          else:  # if viscera weight > 0.1249999962747097\n",
      "            if I <= 0.5:\n",
      "              if shucked weight <= 0.30124999582767487:\n",
      "                return [[ 8. 23.  3.]]\n",
      "              else:  # if shucked weight > 0.30124999582767487\n",
      "                return [[21. 19.  0.]]\n",
      "            else:  # if I > 0.5\n",
      "              return [[25. 14.  2.]]\n",
      "        else:  # if shell weight > 0.18524999916553497\n",
      "          if shucked weight <= 0.3317499905824661:\n",
      "            if shell weight <= 0.20650000125169754:\n",
      "              if height <= 0.13250000029802322:\n",
      "                return [[10. 15.  4.]]\n",
      "              else:  # if height > 0.13250000029802322\n",
      "                return [[ 4. 20.  4.]]\n",
      "            else:  # if shell weight > 0.20650000125169754\n",
      "              if height <= 0.13750000298023224:\n",
      "                return [[ 3. 28.  1.]]\n",
      "              else:  # if height > 0.13750000298023224\n",
      "                if whole weight <= 0.7087500095367432:\n",
      "                  return [[ 5. 21.  2.]]\n",
      "                else:  # if whole weight > 0.7087500095367432\n",
      "                  return [[ 2. 25.  8.]]\n",
      "          else:  # if shucked weight > 0.3317499905824661\n",
      "            if shucked weight <= 0.43050000071525574:\n",
      "              if shell weight <= 0.20650000125169754:\n",
      "                return [[20. 11.  3.]]\n",
      "              else:  # if shell weight > 0.20650000125169754\n",
      "                if whole weight <= 0.8459999859333038:\n",
      "                  if viscera weight <= 0.1602500006556511:\n",
      "                    return [[13. 12.  1.]]\n",
      "                  else:  # if viscera weight > 0.1602500006556511\n",
      "                    if shucked weight <= 0.3607499897480011:\n",
      "                      return [[ 7. 19.  0.]]\n",
      "                    else:  # if shucked weight > 0.3607499897480011\n",
      "                      return [[ 1. 25.  0.]]\n",
      "                else:  # if whole weight > 0.8459999859333038\n",
      "                  return [[20. 18.  3.]]\n",
      "            else:  # if shucked weight > 0.43050000071525574\n",
      "              if shucked weight <= 0.4697500020265579:\n",
      "                return [[ 4. 31.  0.]]\n",
      "              else:  # if shucked weight > 0.4697500020265579\n",
      "                return [[12. 21.  0.]]\n",
      "    else:  # if shell weight > 0.24925000220537186\n",
      "      if shucked weight <= 0.4165000021457672:\n",
      "        if shell weight <= 0.28974999487400055:\n",
      "          if diameter <= 0.42750000953674316:\n",
      "            if shucked weight <= 0.30550000071525574:\n",
      "              return [[ 1. 18. 28.]]\n",
      "            else:  # if shucked weight > 0.30550000071525574\n",
      "              return [[ 4. 12. 10.]]\n",
      "          else:  # if diameter > 0.42750000953674316\n",
      "            if height <= 0.16250000149011612:\n",
      "              if shucked weight <= 0.3422500044107437:\n",
      "                return [[ 1. 19.  8.]]\n",
      "              else:  # if shucked weight > 0.3422500044107437\n",
      "                if shell weight <= 0.27275000512599945:\n",
      "                  return [[ 3. 30.  0.]]\n",
      "                else:  # if shell weight > 0.27275000512599945\n",
      "                  return [[ 3. 19.  4.]]\n",
      "            else:  # if height > 0.16250000149011612\n",
      "              return [[ 1. 19. 12.]]\n",
      "        else:  # if shell weight > 0.28974999487400055\n",
      "          if shell weight <= 0.3642500042915344:\n",
      "            if diameter <= 0.4375:\n",
      "              return [[ 1.  5. 25.]]\n",
      "            else:  # if diameter > 0.4375\n",
      "              if shucked weight <= 0.3762499988079071:\n",
      "                if shucked weight <= 0.3399999886751175:\n",
      "                  return [[ 0. 11. 15.]]\n",
      "                else:  # if shucked weight > 0.3399999886751175\n",
      "                  return [[ 2. 19.  9.]]\n",
      "              else:  # if shucked weight > 0.3762499988079071\n",
      "                return [[ 1. 10. 26.]]\n",
      "          else:  # if shell weight > 0.3642500042915344\n",
      "            return [[ 0.  3. 31.]]\n",
      "      else:  # if shucked weight > 0.4165000021457672\n",
      "        if shell weight <= 0.44449999928474426:\n",
      "          if shell weight <= 0.3894999921321869:\n",
      "            if shucked weight <= 0.4437500089406967:\n",
      "              if whole weight <= 1.050000011920929:\n",
      "                if viscera weight <= 0.22049999982118607:\n",
      "                  return [[ 8. 23.  8.]]\n",
      "                else:  # if viscera weight > 0.22049999982118607\n",
      "                  return [[ 2. 22.  2.]]\n",
      "              else:  # if whole weight > 1.050000011920929\n",
      "                return [[ 0. 12. 15.]]\n",
      "            else:  # if shucked weight > 0.4437500089406967\n",
      "              if shell weight <= 0.29224999248981476:\n",
      "                if height <= 0.16250000149011612:\n",
      "                  if whole weight <= 1.062749981880188:\n",
      "                    if shucked weight <= 0.4714999943971634:\n",
      "                      return [[ 6. 19.  1.]]\n",
      "                    else:  # if shucked weight > 0.4714999943971634\n",
      "                      return [[ 2. 28.  1.]]\n",
      "                  else:  # if whole weight > 1.062749981880188\n",
      "                    if viscera weight <= 0.2462500035762787:\n",
      "                      return [[13. 11.  3.]]\n",
      "                    else:  # if viscera weight > 0.2462500035762787\n",
      "                      return [[ 4. 24.  1.]]\n",
      "                else:  # if height > 0.16250000149011612\n",
      "                  return [[ 2. 27.  0.]]\n",
      "              else:  # if shell weight > 0.29224999248981476\n",
      "                if shucked weight <= 0.5192500054836273:\n",
      "                  if whole weight <= 1.143750011920929:\n",
      "                    if length <= 0.5925000011920929:\n",
      "                      return [[ 3. 17.  6.]]\n",
      "                    else:  # if length > 0.5925000011920929\n",
      "                      if height <= 0.16750000417232513:\n",
      "                        return [[ 0. 37.  0.]]\n",
      "                      else:  # if height > 0.16750000417232513\n",
      "                        return [[ 1. 25.  2.]]\n",
      "                  else:  # if whole weight > 1.143750011920929\n",
      "                    if shell weight <= 0.34575000405311584:\n",
      "                      return [[ 3. 16. 11.]]\n",
      "                    else:  # if shell weight > 0.34575000405311584\n",
      "                      return [[ 0. 22.  6.]]\n",
      "                else:  # if shucked weight > 0.5192500054836273\n",
      "                  if whole weight <= 1.4112499952316284:\n",
      "                    if viscera weight <= 0.29224999248981476:\n",
      "                      if whole weight <= 1.237250030040741:\n",
      "                        if shell weight <= 0.30824999511241913:\n",
      "                          return [[ 1. 24.  2.]]\n",
      "                        else:  # if shell weight > 0.30824999511241913\n",
      "                          return [[ 0. 56.  0.]]\n",
      "                      else:  # if whole weight > 1.237250030040741\n",
      "                        if whole weight <= 1.287500023841858:\n",
      "                          return [[ 5. 25.  1.]]\n",
      "                        else:  # if whole weight > 1.287500023841858\n",
      "                          return [[ 0. 38.  1.]]\n",
      "                    else:  # if viscera weight > 0.29224999248981476\n",
      "                      if shucked weight <= 0.5604999959468842:\n",
      "                        return [[ 2. 18.  6.]]\n",
      "                      else:  # if shucked weight > 0.5604999959468842\n",
      "                        if viscera weight <= 0.30774998664855957:\n",
      "                          return [[ 4. 23.  0.]]\n",
      "                        else:  # if viscera weight > 0.30774998664855957\n",
      "                          return [[ 0. 28.  2.]]\n",
      "                  else:  # if whole weight > 1.4112499952316284\n",
      "                    if shell weight <= 0.36675000190734863:\n",
      "                      return [[ 2. 18.  9.]]\n",
      "                    else:  # if shell weight > 0.36675000190734863\n",
      "                      return [[ 0. 27.  2.]]\n",
      "          else:  # if shell weight > 0.3894999921321869\n",
      "            if shucked weight <= 0.5832500159740448:\n",
      "              if viscera weight <= 0.27924999594688416:\n",
      "                return [[ 1. 10. 22.]]\n",
      "              else:  # if viscera weight > 0.27924999594688416\n",
      "                return [[ 0. 17. 13.]]\n",
      "            else:  # if shucked weight > 0.5832500159740448\n",
      "              if shucked weight <= 0.6977500021457672:\n",
      "                if whole weight <= 1.4632500410079956:\n",
      "                  return [[ 1. 27.  3.]]\n",
      "                else:  # if whole weight > 1.4632500410079956\n",
      "                  return [[ 0. 23. 10.]]\n",
      "              else:  # if shucked weight > 0.6977500021457672\n",
      "                return [[ 3. 43.  2.]]\n",
      "        else:  # if shell weight > 0.44449999928474426\n",
      "          if shucked weight <= 0.6467500030994415:\n",
      "            if viscera weight <= 0.2982499897480011:\n",
      "              return [[ 0. 11. 25.]]\n",
      "            else:  # if viscera weight > 0.2982499897480011\n",
      "              return [[ 0.  6. 40.]]\n",
      "          else:  # if shucked weight > 0.6467500030994415\n",
      "            if shell weight <= 0.5789999961853027:\n",
      "              if length <= 0.7024999856948853:\n",
      "                if whole weight <= 1.683750033378601:\n",
      "                  return [[ 0. 24.  4.]]\n",
      "                else:  # if whole weight > 1.683750033378601\n",
      "                  return [[ 0. 21. 18.]]\n",
      "              else:  # if length > 0.7024999856948853\n",
      "                return [[ 0. 39.  5.]]\n",
      "            else:  # if shell weight > 0.5789999961853027\n",
      "              return [[ 0. 18. 24.]]\n"
     ]
    }
   ],
   "source": [
    "from sklearn.tree import _tree\n",
    "\n",
    "total = 0\n",
    "\n",
    "def tree_to_code(tree, feature_names):\n",
    "    tree_ = tree.tree_\n",
    "    feature_name = [\n",
    "        feature_names[i] if i != _tree.TREE_UNDEFINED else \"undefined!\"\n",
    "        for i in tree_.feature\n",
    "    ]\n",
    "    print(\"def tree({}):\".format(\", \".join(feature_names)))\n",
    "\n",
    "    def recurse(node, depth):\n",
    "        indent = \"  \" * depth\n",
    "        if tree_.feature[node] != _tree.TREE_UNDEFINED:\n",
    "            name = feature_name[node]\n",
    "            threshold = tree_.threshold[node]\n",
    "            print(\"{}if {} <= {}:\".format(indent, name, threshold))\n",
    "            recurse(tree_.children_left[node], depth + 1)\n",
    "            print(\"{}else:  # if {} > {}\".format(indent, name, threshold))\n",
    "            recurse(tree_.children_right[node], depth + 1)\n",
    "        else:\n",
    "            global total\n",
    "            total += tree_.value[node].sum()\n",
    "            print(\"{}return {}\".format(indent, tree_.value[node]))\n",
    "\n",
    "    recurse(0, 1)\n",
    "\n",
    "tree_to_code(model, data.columns)"
   ]
  },
  {
   "cell_type": "code",
   "execution_count": 91,
   "metadata": {},
   "outputs": [],
   "source": [
    "def tree_to_rules(tree, feature_names):\n",
    "    from sklearn.tree import _tree as Tree\n",
    "    \n",
    "    tree = tree.tree_\n",
    "    feature_names = [\n",
    "        feature_names[i] if i != Tree.TREE_UNDEFINED else \"TREE_UNDEFINED\"\n",
    "        for i in tree.feature\n",
    "    ]\n",
    "    queue = [(0, tuple())]\n",
    "    rules = []\n",
    "    while queue:\n",
    "        node, path = queue.pop()\n",
    "        if tree.feature[node] != Tree.TREE_UNDEFINED:\n",
    "            name = feature_names[node]\n",
    "            threshold = tree.threshold[node]\n",
    "            queue.append((tree.children_left[node], path + ((name, False, threshold),)))  # <= threshold\n",
    "            queue.append((tree.children_right[node], path + ((name, True, threshold),)))  # > threshold\n",
    "        else:\n",
    "            rules.append((path, tuple(tree.value[node][0])))\n",
    "    return rules"
   ]
  },
  {
   "cell_type": "code",
   "execution_count": 92,
   "metadata": {},
   "outputs": [],
   "source": [
    "rules = tree_to_rules(model, data.columns)"
   ]
  },
  {
   "cell_type": "code",
   "execution_count": 93,
   "metadata": {},
   "outputs": [
    {
     "data": {
      "text/plain": [
       "((('shell weight', True, 0.1522499993443489),\n",
       "  ('shell weight', True, 0.25425000488758087),\n",
       "  ('shucked weight', True, 0.44474999606609344),\n",
       "  ('shell weight', True, 0.3894999921321869),\n",
       "  ('shucked weight', True, 0.5852499902248383),\n",
       "  ('shell weight', True, 0.5092499852180481),\n",
       "  ('shucked weight', True, 0.8075000047683716),\n",
       "  ('shucked weight', True, 1.001249998807907)),\n",
       " (0.0, 22.0, 6.0))"
      ]
     },
     "execution_count": 93,
     "metadata": {},
     "output_type": "execute_result"
    }
   ],
   "source": [
    "rules[0]"
   ]
  },
  {
   "cell_type": "code",
   "execution_count": 102,
   "metadata": {},
   "outputs": [],
   "source": [
    "from collections import defaultdict\n",
    "\n",
    "def merge_rules(rules):\n",
    "    new_rules = []\n",
    "    for rule, freqs in rules:\n",
    "        min_vals = {}\n",
    "        max_vals = {}\n",
    "        flags = defaultdict(int)\n",
    "        for name, cmp, val in rule:\n",
    "            if cmp:\n",
    "                min_vals[name] = max(min_vals.get(name, val), val)\n",
    "                flags[name] |= 1\n",
    "            else:\n",
    "                max_vals[name] = min(max_vals.get(name, val), val)\n",
    "                flags[name] |= 2\n",
    "        new_rule = []\n",
    "        for key, bits in sorted(flags.items()):\n",
    "            if bits & 2:\n",
    "                new_rule.append((key, False, max_vals[key]))\n",
    "            if bits & 1:\n",
    "                new_rule.append((key, True, min_vals[key]))\n",
    "        new_rules.append((new_rule, freqs))\n",
    "    return new_rules"
   ]
  },
  {
   "cell_type": "code",
   "execution_count": 103,
   "metadata": {},
   "outputs": [],
   "source": [
    "rules2 = merge_rules(rules)"
   ]
  },
  {
   "cell_type": "code",
   "execution_count": 107,
   "metadata": {},
   "outputs": [
    {
     "data": {
      "text/plain": [
       "(array([ 1.,  0.,  8., 14., 35., 20., 19., 15.,  5.,  2.]),\n",
       " array([ 3. ,  3.9,  4.8,  5.7,  6.6,  7.5,  8.4,  9.3, 10.2, 11.1, 12. ]),\n",
       " <a list of 10 Patch objects>)"
      ]
     },
     "execution_count": 107,
     "metadata": {},
     "output_type": "execute_result"
    },
    {
     "data": {
      "image/png": "[encoded data removed]",
      "text/plain": [
       "<matplotlib.figure.Figure at 0x7fe3683afba8>"
      ]
     },
     "metadata": {},
     "output_type": "display_data"
    }
   ],
   "source": [
    "hist([len(r[0]) for r in rules])"
   ]
  },
  {
   "cell_type": "code",
   "execution_count": 108,
   "metadata": {},
   "outputs": [
    {
     "data": {
      "text/plain": [
       "(array([ 1.,  6.,  0., 20.,  0., 37., 36.,  0., 17.,  2.]),\n",
       " array([2. , 2.6, 3.2, 3.8, 4.4, 5. , 5.6, 6.2, 6.8, 7.4, 8. ]),\n",
       " <a list of 10 Patch objects>)"
      ]
     },
     "execution_count": 108,
     "metadata": {},
     "output_type": "execute_result"
    },
    {
     "data": {
      "image/png": "[encoded data removed]",
      "text/plain": [
       "<matplotlib.figure.Figure at 0x7fe3683ba668>"
      ]
     },
     "metadata": {},
     "output_type": "display_data"
    }
   ],
   "source": [
    "hist([len(r[0]) for r in rules2])"
   ]
  },
  {
   "cell_type": "code",
   "execution_count": 122,
   "metadata": {},
   "outputs": [
    {
     "name": "stdout",
     "output_type": "stream",
     "text": [
      "119\n"
     ]
    }
   ],
   "source": [
    "print(len(rules2))"
   ]
  },
  {
   "cell_type": "code",
   "execution_count": 229,
   "metadata": {},
   "outputs": [],
   "source": [
    "def compile_rules(rules, feature_names):\n",
    "    findex = {k: i for i, k in enumerate(feature_names)}\n",
    "    vals = defaultdict(set)\n",
    "    for rule, _ in rules:\n",
    "        for name, _, val in rule:\n",
    "            vals[name].add(val)\n",
    "    vals = {findex[name]: sorted(v) for name, v in vals.items()}\n",
    "    model = {k: ([[] for v in ts] + [[]], ts, set()) for k, ts in vals.items()}\n",
    "    for ri, (rule, _) in enumerate(rules):\n",
    "        allnis = set(model)\n",
    "        names = set()\n",
    "        for name, cmp, thr in rule:\n",
    "            ni = findex[name]\n",
    "            allnis.discard(ni)\n",
    "            ptrs, vals, _ = model[ni]\n",
    "            if name not in names:\n",
    "                for ptr in ptrs:\n",
    "                    ptr.append(ri)\n",
    "                names.add(name)\n",
    "            for ptr, brdr in zip(ptrs, vals + [1<<31]):\n",
    "                # brdr_{-1} < x <= brdr\n",
    "                if cmp:\n",
    "                    # x > thr\n",
    "                    if brdr <= thr:\n",
    "                        # x <= brdr <= thr < x - impossible\n",
    "                        if ptr and ptr[-1] == ri:\n",
    "                            ptr.pop()\n",
    "                else:\n",
    "                    # x <= thr\n",
    "                    if brdr > thr:\n",
    "                        # x <= thr < brdr\n",
    "                        # x <= thr <= brdr_{-1} < x - impossible\n",
    "                        if ptr and ptr[-1] == ri:\n",
    "                            ptr.pop()\n",
    "        for ni in allnis:\n",
    "            model[ni][2].add(ri)\n",
    "    return model"
   ]
  },
  {
   "cell_type": "code",
   "execution_count": 244,
   "metadata": {},
   "outputs": [],
   "source": [
    "def eval_rules(rules, X, Y, feature_names):\n",
    "    compiled = compile_rules(rules, feature_names)\n",
    "    matched = 0\n",
    "    for xi, (x, y) in enumerate(zip(X, Y)):\n",
    "        ris = set(range(len(rules)))\n",
    "        for i, v in enumerate(x):\n",
    "            try:\n",
    "                ptrs, thrs, skips = compiled[i]\n",
    "            except KeyError:\n",
    "                continue\n",
    "            possible = ptrs[searchsorted(thrs, v)]\n",
    "            ris = ris.intersection(set(possible).union(skips))\n",
    "        if len(ris) == 0:\n",
    "            print(\"no rule!\")\n",
    "            continue\n",
    "        if len(ris) > 1:\n",
    "            print(\"%d matching rules for X[%d]\" % (len(ris), xi))\n",
    "            maxfreq = 0\n",
    "            maxri = -1\n",
    "            for ri in ris:\n",
    "                freqs = rules[ri][1]\n",
    "                maxfreqi = argmax(freqs)\n",
    "                if freqs[maxfreqi] > maxfreq:\n",
    "                    maxfreq = freqs[maxfreqi]\n",
    "                    maxri = ri\n",
    "        else:\n",
    "            maxri = next(iter(ris))\n",
    "        if argmax(rules[maxri][1]) == y:\n",
    "            matched += 1\n",
    "    return matched / len(Y)"
   ]
  },
  {
   "cell_type": "code",
   "execution_count": 187,
   "metadata": {},
   "outputs": [
    {
     "data": {
      "text/plain": [
       "{'F': 8,\n",
       " 'I': 9,\n",
       " 'M': 7,\n",
       " 'diameter': 1,\n",
       " 'height': 2,\n",
       " 'length': 0,\n",
       " 'shell weight': 6,\n",
       " 'shucked weight': 4,\n",
       " 'viscera weight': 5,\n",
       " 'whole weight': 3}"
      ]
     },
     "execution_count": 187,
     "metadata": {},
     "output_type": "execute_result"
    }
   ],
   "source": [
    "{k: i for i, k in enumerate(data.columns)}"
   ]
  },
  {
   "cell_type": "code",
   "execution_count": 183,
   "metadata": {},
   "outputs": [],
   "source": [
    "def print_x(x):\n",
    "    for i, v in enumerate(x):\n",
    "        print(data.columns[i], \"=\", v)"
   ]
  },
  {
   "cell_type": "code",
   "execution_count": 184,
   "metadata": {},
   "outputs": [
    {
     "name": "stdout",
     "output_type": "stream",
     "text": [
      "length = 0.455\n",
      "diameter = 0.365\n",
      "height = 0.095\n",
      "whole weight = 0.514\n",
      "shucked weight = 0.2245\n",
      "viscera weight = 0.10099999999999999\n",
      "shell weight = 0.15\n",
      "M = 1.0\n",
      "F = 0.0\n",
      "I = 0.0\n"
     ]
    }
   ],
   "source": [
    "print_x(X[0])"
   ]
  },
  {
   "cell_type": "code",
   "execution_count": 245,
   "metadata": {
    "scrolled": true
   },
   "outputs": [
    {
     "data": {
      "text/plain": [
       "0.7526933205649988"
      ]
     },
     "execution_count": 245,
     "metadata": {},
     "output_type": "execute_result"
    }
   ],
   "source": [
    "eval_rules(rules2, X, mapped_y, data.columns)"
   ]
  },
  {
   "cell_type": "code",
   "execution_count": 251,
   "metadata": {},
   "outputs": [],
   "source": [
    "verbs = defaultdict(int)\n",
    "for branch, _ in rules2:\n",
    "    for rule in branch:\n",
    "        verbs[rule] += 1\n",
    "verb_vals = list(verbs.values())"
   ]
  },
  {
   "cell_type": "code",
   "execution_count": 253,
   "metadata": {},
   "outputs": [
    {
     "data": {
      "text/plain": [
       "(array([174.,  25.,  10.,   7.,   7.,   0.,   1.,   0.,   0.,   2.]),\n",
       " array([ 1. ,  3.3,  5.6,  7.9, 10.2, 12.5, 14.8, 17.1, 19.4, 21.7, 24. ]),\n",
       " <a list of 10 Patch objects>)"
      ]
     },
     "execution_count": 253,
     "metadata": {},
     "output_type": "execute_result"
    },
    {
     "data": {
      "image/png": "[encoded data removed]",
      "text/plain": [
       "<matplotlib.figure.Figure at 0x7fe36666ae48>"
      ]
     },
     "metadata": {},
     "output_type": "display_data"
    }
   ],
   "source": [
    "hist(verb_vals)"
   ]
  },
  {
   "cell_type": "code",
   "execution_count": null,
   "metadata": {},
   "outputs": [],
   "source": [
    "from scipy.stats import fisher_exact\n",
    "\n",
    "def throw_insignificant_parts(rule, X, Y, feature_names):\n",
    "    findex = {k: i for i, k in enumerate(feature_names)}\n",
    "    verbs, freqs = rule\n",
    "    cls = argmax(freqs)\n",
    "    for name, cmp, thr in verbs:\n",
    "        table = np.zeros((2, 2), dtype=int)\n",
    "        for x, y in zip(X, Y):\n",
    "            val = x[findex[name]]\n",
    "            table[(val <= thr) == cmp, cls != y] += 1\n",
    "        \n",
    "        print(name, cmp, thr, )"
   ]
  }
 ],
 "metadata": {
  "kernelspec": {
   "display_name": "Python 3",
   "language": "python",
   "name": "python3"
  },
  "language_info": {
   "codemirror_mode": {
    "name": "ipython",
    "version": 3
   },
   "file_extension": ".py",
   "mimetype": "text/x-python",
   "name": "python",
   "nbconvert_exporter": "python",
   "pygments_lexer": "ipython3",
   "version": "3.7.0b3"
  }
 },
 "nbformat": 4,
 "nbformat_minor": 1
}
